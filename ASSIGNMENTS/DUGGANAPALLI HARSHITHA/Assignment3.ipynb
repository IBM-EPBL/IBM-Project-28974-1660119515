{
  "nbformat": 4,
  "nbformat_minor": 0,
  "metadata": {
    "colab": {
      "provenance": []
    },
    "kernelspec": {
      "name": "python3",
      "display_name": "Python 3"
    },
    "language_info": {
      "name": "python"
    }
  },
  "cells": [
    {
      "cell_type": "markdown",
      "source": [
        "# **Download the Dataset**"
      ],
      "metadata": {
        "id": "zznqSEc_ZYcG"
      }
    },
    {
      "cell_type": "code",
      "execution_count": 49,
      "metadata": {
        "colab": {
          "base_uri": "https://localhost:8080/"
        },
        "id": "PFLQtrFVXVA-",
        "outputId": "a4147c71-cfab-41aa-cfda-80117ec00dea"
      },
      "outputs": [
        {
          "output_type": "stream",
          "name": "stdout",
          "text": [
            "Drive already mounted at /content/drive; to attempt to forcibly remount, call drive.mount(\"/content/drive\", force_remount=True).\n"
          ]
        }
      ],
      "source": [
        "from google.colab import drive\n",
        "drive.mount('/content/drive')"
      ]
    },
    {
      "cell_type": "code",
      "source": [
        "cd/content/drive/MyDrive"
      ],
      "metadata": {
        "colab": {
          "base_uri": "https://localhost:8080/"
        },
        "id": "trn_fgNDY4zV",
        "outputId": "068b003b-ff35-4b79-9edc-da7d2976694b"
      },
      "execution_count": 50,
      "outputs": [
        {
          "output_type": "stream",
          "name": "stdout",
          "text": [
            "/content/drive/MyDrive\n"
          ]
        }
      ]
    },
    {
      "cell_type": "code",
      "source": [
        "!unzip Flowers-Dataset.zip"
      ],
      "metadata": {
        "id": "H3-5k2VrY-sI"
      },
      "execution_count": null,
      "outputs": []
    },
    {
      "cell_type": "markdown",
      "source": [
        "# **Image Augmentation**"
      ],
      "metadata": {
        "id": "TlG-_df2ZjVB"
      }
    },
    {
      "cell_type": "code",
      "source": [
        "from tensorflow.keras.models import Sequential\n",
        "from tensorflow.keras.layers import Convolution2D,MaxPooling2D,Flatten,Dense"
      ],
      "metadata": {
        "id": "-HsRFZwVYmj7"
      },
      "execution_count": 52,
      "outputs": []
    },
    {
      "cell_type": "code",
      "source": [
        "from tensorflow.keras.preprocessing.image import ImageDataGenerator"
      ],
      "metadata": {
        "id": "tmCZHXdzYpiE"
      },
      "execution_count": 53,
      "outputs": []
    },
    {
      "cell_type": "code",
      "source": [
        "train_datagen = ImageDataGenerator(rescale=1./255,shear_range=0.2,zoom_range=0.2,horizontal_flip=True,vertical_flip=True)"
      ],
      "metadata": {
        "id": "W4vzlp5vZ-sc"
      },
      "execution_count": 54,
      "outputs": []
    },
    {
      "cell_type": "code",
      "source": [
        "test_datagen=ImageDataGenerator(rescale=1./255)"
      ],
      "metadata": {
        "id": "REFyqsasaE4e"
      },
      "execution_count": 55,
      "outputs": []
    },
    {
      "cell_type": "code",
      "source": [
        "x_train = train_datagen.flow_from_directory(r\"/content/drive/MyDrive/flowers\",target_size=(64,64),batch_size=32,class_mode=\"categorical\")"
      ],
      "metadata": {
        "colab": {
          "base_uri": "https://localhost:8080/"
        },
        "id": "ID4yvwCnaId7",
        "outputId": "d424a423-743f-49f4-9653-36b82f0b54cb"
      },
      "execution_count": 56,
      "outputs": [
        {
          "output_type": "stream",
          "name": "stdout",
          "text": [
            "Found 4317 images belonging to 5 classes.\n"
          ]
        }
      ]
    },
    {
      "cell_type": "code",
      "source": [
        "x_test = test_datagen.flow_from_directory(r\"/content/drive/MyDrive/flowers\",target_size=(64,64),batch_size=32,class_mode=\"categorical\")"
      ],
      "metadata": {
        "id": "O5P4IcJKaZXJ",
        "colab": {
          "base_uri": "https://localhost:8080/"
        },
        "outputId": "924b179e-f79b-4a84-91b7-0e1ed2821da3"
      },
      "execution_count": 57,
      "outputs": [
        {
          "output_type": "stream",
          "name": "stdout",
          "text": [
            "Found 4317 images belonging to 5 classes.\n"
          ]
        }
      ]
    },
    {
      "cell_type": "code",
      "source": [
        "x_train.class_indices"
      ],
      "metadata": {
        "colab": {
          "base_uri": "https://localhost:8080/"
        },
        "id": "S8HYebI7dYZ0",
        "outputId": "2c6164c3-1b9e-4287-8286-2948077e8ae9"
      },
      "execution_count": 58,
      "outputs": [
        {
          "output_type": "execute_result",
          "data": {
            "text/plain": [
              "{'daisy': 0, 'dandelion': 1, 'rose': 2, 'sunflower': 3, 'tulip': 4}"
            ]
          },
          "metadata": {},
          "execution_count": 58
        }
      ]
    },
    {
      "cell_type": "markdown",
      "source": [
        "# **Create Model**"
      ],
      "metadata": {
        "id": "wEvTg6KhdlD3"
      }
    },
    {
      "cell_type": "code",
      "source": [
        "model=Sequential()"
      ],
      "metadata": {
        "id": "WJhBW2N9dozL"
      },
      "execution_count": 59,
      "outputs": []
    },
    {
      "cell_type": "markdown",
      "source": [
        "# **Add Layers (Convolution,MaxPooling,Flatten,Dense-(Hidden Layers),Output)**"
      ],
      "metadata": {
        "id": "sqyIkKaBdy8e"
      }
    },
    {
      "cell_type": "markdown",
      "source": [
        "**Convolution Layer**"
      ],
      "metadata": {
        "id": "YK610A9sesTn"
      }
    },
    {
      "cell_type": "code",
      "source": [
        "model.add(Convolution2D(32,(3,3),input_shape=(64,64,3),activation='relu'))"
      ],
      "metadata": {
        "id": "_TGzKAbmeIuC"
      },
      "execution_count": 60,
      "outputs": []
    },
    {
      "cell_type": "markdown",
      "source": [
        "**MaxPooling Layer**"
      ],
      "metadata": {
        "id": "XTFusgCNe33Y"
      }
    },
    {
      "cell_type": "code",
      "source": [
        "model.add(MaxPooling2D(pool_size=(2,2)))"
      ],
      "metadata": {
        "id": "sL9QCmuReMwW"
      },
      "execution_count": 61,
      "outputs": []
    },
    {
      "cell_type": "markdown",
      "source": [
        "**Flatten Layer**"
      ],
      "metadata": {
        "id": "0GLxzDm3e_SX"
      }
    },
    {
      "cell_type": "code",
      "source": [
        "model.add(Flatten())"
      ],
      "metadata": {
        "id": "hlfopcx7ecyJ"
      },
      "execution_count": 62,
      "outputs": []
    },
    {
      "cell_type": "markdown",
      "source": [
        "**Dense-(Hidden Layers)**"
      ],
      "metadata": {
        "id": "LDZ9JfSCezr0"
      }
    },
    {
      "cell_type": "code",
      "source": [
        "model.add(Dense(units=300,kernel_initializer=\"random_uniform\",activation=\"relu\"))\n",
        "model.add(Dense(units=150,kernel_initializer=\"random_uniform\",activation=\"relu\"))"
      ],
      "metadata": {
        "id": "sJmjbXQqfHEu"
      },
      "execution_count": 71,
      "outputs": []
    },
    {
      "cell_type": "markdown",
      "source": [
        "**Output Layer**"
      ],
      "metadata": {
        "id": "vqNZ83sffJ7x"
      }
    },
    {
      "cell_type": "code",
      "source": [
        "model.add(Dense(units=5,kernel_initializer=\"random_uniform\",activation=\"softmax\"))"
      ],
      "metadata": {
        "id": "8KBwkywofT6O"
      },
      "execution_count": 72,
      "outputs": []
    },
    {
      "cell_type": "code",
      "source": [
        "model.summary()"
      ],
      "metadata": {
        "colab": {
          "base_uri": "https://localhost:8080/"
        },
        "id": "E_ksmHxWfbPN",
        "outputId": "380e1646-f1c6-431f-e4e6-1cb8482e969f"
      },
      "execution_count": 73,
      "outputs": [
        {
          "output_type": "stream",
          "name": "stdout",
          "text": [
            "Model: \"sequential_1\"\n",
            "_________________________________________________________________\n",
            " Layer (type)                Output Shape              Param #   \n",
            "=================================================================\n",
            " conv2d_1 (Conv2D)           (None, 62, 62, 32)        896       \n",
            "                                                                 \n",
            " max_pooling2d_2 (MaxPooling  (None, 31, 31, 32)       0         \n",
            " 2D)                                                             \n",
            "                                                                 \n",
            " flatten_1 (Flatten)         (None, 30752)             0         \n",
            "                                                                 \n",
            " dense_3 (Dense)             (None, 300)               9225900   \n",
            "                                                                 \n",
            " dense_4 (Dense)             (None, 200)               60200     \n",
            "                                                                 \n",
            " dense_5 (Dense)             (None, 4)                 804       \n",
            "                                                                 \n",
            " dense_6 (Dense)             (None, 300)               1500      \n",
            "                                                                 \n",
            " dense_7 (Dense)             (None, 150)               45150     \n",
            "                                                                 \n",
            " dense_8 (Dense)             (None, 5)                 755       \n",
            "                                                                 \n",
            "=================================================================\n",
            "Total params: 9,335,205\n",
            "Trainable params: 9,335,205\n",
            "Non-trainable params: 0\n",
            "_________________________________________________________________\n"
          ]
        }
      ]
    },
    {
      "cell_type": "markdown",
      "source": [
        "# **Compile The Model**"
      ],
      "metadata": {
        "id": "ZjcFpLEhfzgO"
      }
    },
    {
      "cell_type": "code",
      "source": [
        "model.compile(loss=\"categorical_crossentropy\",optimizer=\"adam\",metrics=['accuracy'])"
      ],
      "metadata": {
        "id": "42zliK0Pf3p4"
      },
      "execution_count": 74,
      "outputs": []
    },
    {
      "cell_type": "markdown",
      "source": [
        "# **Fit The Model**"
      ],
      "metadata": {
        "id": "-kxDin-7iN4B"
      }
    },
    {
      "cell_type": "code",
      "source": [
        "model.fit(x_train, epochs = 5, validation_data=x_test, steps_per_epoch=len(x_train), validation_steps=len(x_test))"
      ],
      "metadata": {
        "colab": {
          "base_uri": "https://localhost:8080/"
        },
        "id": "a5EgHO0kf-NA",
        "outputId": "07749d18-a69e-4342-b4e1-5e0200a159c2"
      },
      "execution_count": 75,
      "outputs": [
        {
          "output_type": "stream",
          "name": "stdout",
          "text": [
            "Epoch 1/5\n",
            "135/135 [==============================] - 59s 433ms/step - loss: 1.6026 - accuracy: 0.2391 - val_loss: 1.5987 - val_accuracy: 0.2437\n",
            "Epoch 2/5\n",
            "135/135 [==============================] - 58s 428ms/step - loss: 1.5997 - accuracy: 0.2437 - val_loss: 1.5988 - val_accuracy: 0.2437\n",
            "Epoch 3/5\n",
            "135/135 [==============================] - 58s 430ms/step - loss: 1.5996 - accuracy: 0.2437 - val_loss: 1.5986 - val_accuracy: 0.2437\n",
            "Epoch 4/5\n",
            "135/135 [==============================] - 115s 856ms/step - loss: 1.5996 - accuracy: 0.2365 - val_loss: 1.5988 - val_accuracy: 0.2437\n",
            "Epoch 5/5\n",
            "135/135 [==============================] - 59s 438ms/step - loss: 1.5994 - accuracy: 0.2437 - val_loss: 1.5985 - val_accuracy: 0.2437\n"
          ]
        },
        {
          "output_type": "execute_result",
          "data": {
            "text/plain": [
              "<keras.callbacks.History at 0x7fbb6f13ae90>"
            ]
          },
          "metadata": {},
          "execution_count": 75
        }
      ]
    },
    {
      "cell_type": "markdown",
      "source": [
        "# **Save The Model**"
      ],
      "metadata": {
        "id": "rf6dXtXSiTJy"
      }
    },
    {
      "cell_type": "code",
      "source": [
        "model.save(\"flower.h5\")"
      ],
      "metadata": {
        "id": "4au7HbkViiae"
      },
      "execution_count": 76,
      "outputs": []
    },
    {
      "cell_type": "markdown",
      "source": [
        "# **Test The Model**"
      ],
      "metadata": {
        "id": "7la5od8NiXgx"
      }
    },
    {
      "cell_type": "code",
      "source": [
        "from tensorflow.keras.models import load_model\n",
        "from tensorflow.keras.preprocessing import image\n",
        "import numpy as np"
      ],
      "metadata": {
        "id": "wwiZxJnsinZw"
      },
      "execution_count": 77,
      "outputs": []
    },
    {
      "cell_type": "code",
      "source": [
        "model = load_model('flower.h5')\n",
        "img = image.load_img('/content/drive/MyDrive/flowers/daisy/10555826524_423eb8bf71_n.jpg',target_size=(64,64))"
      ],
      "metadata": {
        "id": "07J5sdyfisE5"
      },
      "execution_count": 95,
      "outputs": []
    },
    {
      "cell_type": "code",
      "source": [
        "img"
      ],
      "metadata": {
        "colab": {
          "base_uri": "https://localhost:8080/",
          "height": 81
        },
        "id": "3rfJZWr4jCPc",
        "outputId": "baa7b6e7-39de-45c0-b304-6dd6102d8311"
      },
      "execution_count": 96,
      "outputs": [
        {
          "output_type": "execute_result",
          "data": {
            "text/plain": [
              "<PIL.Image.Image image mode=RGB size=64x64 at 0x7FBB77B84990>"
            ],
            "image/png": "[encoded data removed]"
          },
          "metadata": {},
          "execution_count": 96
        }
      ]
    },
    {
      "cell_type": "code",
      "source": [
        "x=image.img_to_array(img)"
      ],
      "metadata": {
        "id": "BVBsutZMjLhx"
      },
      "execution_count": 97,
      "outputs": []
    },
    {
      "cell_type": "code",
      "source": [
        "x"
      ],
      "metadata": {
        "colab": {
          "base_uri": "https://localhost:8080/"
        },
        "id": "qXt-cQiHjMYm",
        "outputId": "b9031434-8752-44c3-f69e-b02bd0e71abd"
      },
      "execution_count": 98,
      "outputs": [
        {
          "output_type": "execute_result",
          "data": {
            "text/plain": [
              "array([[[ 49.,  55.,  55.],\n",
              "        [ 53.,  59.,  59.],\n",
              "        [ 50.,  59.,  58.],\n",
              "        ...,\n",
              "        [120., 122., 100.],\n",
              "        [ 99., 116.,  71.],\n",
              "        [149., 173.,  99.]],\n",
              "\n",
              "       [[ 53.,  59.,  59.],\n",
              "        [ 50.,  56.,  56.],\n",
              "        [ 50.,  56.,  56.],\n",
              "        ...,\n",
              "        [ 61.,  68.,  14.],\n",
              "        [ 87., 102.,  63.],\n",
              "        [ 52.,  64.,  52.]],\n",
              "\n",
              "       [[ 47.,  53.,  53.],\n",
              "        [ 43.,  49.,  49.],\n",
              "        [ 45.,  54.,  53.],\n",
              "        ...,\n",
              "        [ 93., 122.,  32.],\n",
              "        [ 74.,  94.,  43.],\n",
              "        [ 59.,  76.,  32.]],\n",
              "\n",
              "       ...,\n",
              "\n",
              "       [[  8.,  18.,   7.],\n",
              "        [ 33.,  40.,  24.],\n",
              "        [ 19.,  27.,  14.],\n",
              "        ...,\n",
              "        [149., 165., 118.],\n",
              "        [136., 151.,  84.],\n",
              "        [117., 142.,  50.]],\n",
              "\n",
              "       [[ 10.,  18.,   7.],\n",
              "        [ 46.,  56.,  29.],\n",
              "        [  6.,  16.,   5.],\n",
              "        ...,\n",
              "        [ 77.,  89.,  53.],\n",
              "        [ 53.,  70.,  26.],\n",
              "        [160., 183.,  95.]],\n",
              "\n",
              "       [[  5.,   6.,   1.],\n",
              "        [ 10.,  16.,   6.],\n",
              "        [  8.,  15.,   7.],\n",
              "        ...,\n",
              "        [122., 156.,  82.],\n",
              "        [157., 182.,  91.],\n",
              "        [ 79.,  92.,  62.]]], dtype=float32)"
            ]
          },
          "metadata": {},
          "execution_count": 98
        }
      ]
    },
    {
      "cell_type": "code",
      "source": [
        "x.shape"
      ],
      "metadata": {
        "colab": {
          "base_uri": "https://localhost:8080/"
        },
        "id": "5noe1XtbjOE_",
        "outputId": "22270bb3-8056-4628-8551-4455ef7bd03e"
      },
      "execution_count": 99,
      "outputs": [
        {
          "output_type": "execute_result",
          "data": {
            "text/plain": [
              "(64, 64, 3)"
            ]
          },
          "metadata": {},
          "execution_count": 99
        }
      ]
    },
    {
      "cell_type": "code",
      "source": [
        "x=np.expand_dims(x,axis=0)"
      ],
      "metadata": {
        "id": "8P2CqITdjSM-"
      },
      "execution_count": 100,
      "outputs": []
    },
    {
      "cell_type": "code",
      "source": [
        "y=np.argmax(model.predict(x),axis=0)"
      ],
      "metadata": {
        "id": "LjVYSPV4jUcq"
      },
      "execution_count": 101,
      "outputs": []
    },
    {
      "cell_type": "code",
      "source": [
        "x_train.class_indices"
      ],
      "metadata": {
        "colab": {
          "base_uri": "https://localhost:8080/"
        },
        "id": "kUPuc2eSjjJI",
        "outputId": "d864ff07-df6e-4256-eeb0-4f0071ce2471"
      },
      "execution_count": 102,
      "outputs": [
        {
          "output_type": "execute_result",
          "data": {
            "text/plain": [
              "{'daisy': 0, 'dandelion': 1, 'rose': 2, 'sunflower': 3, 'tulip': 4}"
            ]
          },
          "metadata": {},
          "execution_count": 102
        }
      ]
    },
    {
      "cell_type": "code",
      "source": [
        "array=['daisy','dandelion','rose','sunflower']"
      ],
      "metadata": {
        "id": "yfbhccWojk8-"
      },
      "execution_count": 103,
      "outputs": []
    },
    {
      "cell_type": "code",
      "source": [
        "array[y[0]]"
      ],
      "metadata": {
        "colab": {
          "base_uri": "https://localhost:8080/",
          "height": 36
        },
        "id": "9zdExsC4jpOs",
        "outputId": "953c5bd7-71b0-429f-a6d3-0e52aef88795"
      },
      "execution_count": 104,
      "outputs": [
        {
          "output_type": "execute_result",
          "data": {
            "text/plain": [
              "'daisy'"
            ],
            "application/vnd.google.colaboratory.intrinsic+json": {
              "type": "string"
            }
          },
          "metadata": {},
          "execution_count": 104
        }
      ]
    },
    {
      "cell_type": "code",
      "source": [
        "img=image.load_img(r\"/content/drive/MyDrive/flowers/dandelion/11545123_50a340b473_m.jpg\", target_size=(64,64))\n",
        "x=image.img_to_array(img)\n",
        "x=np.expand_dims(x,axis=0)\n",
        "y=np.argmax(model.predict(x),axis=1)\n",
        "array=['daisy','dandelion','rose','sunflower']\n",
        "array[y[0]]"
      ],
      "metadata": {
        "colab": {
          "base_uri": "https://localhost:8080/",
          "height": 36
        },
        "id": "ZLj2vmBjjsG1",
        "outputId": "af571a7e-e499-4dc7-ec37-8b7939b72a11"
      },
      "execution_count": 105,
      "outputs": [
        {
          "output_type": "execute_result",
          "data": {
            "text/plain": [
              "'dandelion'"
            ],
            "application/vnd.google.colaboratory.intrinsic+json": {
              "type": "string"
            }
          },
          "metadata": {},
          "execution_count": 105
        }
      ]
    },
    {
      "cell_type": "code",
      "source": [
        "img"
      ],
      "metadata": {
        "colab": {
          "base_uri": "https://localhost:8080/",
          "height": 81
        },
        "id": "pfqFid4wkuQv",
        "outputId": "19416d09-e381-41ab-d5e3-f1f4ebf2f212"
      },
      "execution_count": 106,
      "outputs": [
        {
          "output_type": "execute_result",
          "data": {
            "text/plain": [
              "<PIL.Image.Image image mode=RGB size=64x64 at 0x7FBB6F079D90>"
            ],
            "image/png": "[encoded data removed]"
          },
          "metadata": {},
          "execution_count": 106
        }
      ]
    },
    {
      "cell_type": "code",
      "source": [
        "img=image.load_img(r\"/content/drive/MyDrive/flowers/rose/13231224664_4af5293a37.jpg\", target_size=(64,64))\n",
        "x=image.img_to_array(img)\n",
        "x=np.expand_dims(x,axis=0)\n",
        "y=np.argmax(model.predict(x),axis=1)\n",
        "array=['daisy','rose','dandelion','sunflower']\n",
        "array[y[0]]"
      ],
      "metadata": {
        "colab": {
          "base_uri": "https://localhost:8080/",
          "height": 36
        },
        "id": "kylNGb2dkwfp",
        "outputId": "da5a6f75-d9a5-4a2d-e709-b01ea4e42a1e"
      },
      "execution_count": 107,
      "outputs": [
        {
          "output_type": "execute_result",
          "data": {
            "text/plain": [
              "'rose'"
            ],
            "application/vnd.google.colaboratory.intrinsic+json": {
              "type": "string"
            }
          },
          "metadata": {},
          "execution_count": 107
        }
      ]
    },
    {
      "cell_type": "code",
      "source": [
        "img"
      ],
      "metadata": {
        "colab": {
          "base_uri": "https://localhost:8080/",
          "height": 81
        },
        "id": "c-Sye4fllA4J",
        "outputId": "69b57630-0177-48ff-eed4-9aee04ac9540"
      },
      "execution_count": 108,
      "outputs": [
        {
          "output_type": "execute_result",
          "data": {
            "text/plain": [
              "<PIL.Image.Image image mode=RGB size=64x64 at 0x7FBB78799FD0>"
            ],
            "image/png": "[encoded data removed]"
          },
          "metadata": {},
          "execution_count": 108
        }
      ]
    },
    {
      "cell_type": "code",
      "source": [
        "img=image.load_img(r\"/content/drive/MyDrive/flowers/sunflower/1244774242_25a20d99a9.jpg\", target_size=(64,64))\n",
        "x=image.img_to_array(img)\n",
        "x=np.expand_dims(x,axis=0)\n",
        "y=np.argmax(model.predict(x),axis=0)\n",
        "array=['sunflower','daisy','dandelion','rose']\n",
        "array[y[0]]"
      ],
      "metadata": {
        "colab": {
          "base_uri": "https://localhost:8080/",
          "height": 36
        },
        "id": "EFgBj9IAlHPO",
        "outputId": "a9bd958d-a4ec-4e88-a7bd-66bb1efec1ac"
      },
      "execution_count": 109,
      "outputs": [
        {
          "output_type": "execute_result",
          "data": {
            "text/plain": [
              "'sunflower'"
            ],
            "application/vnd.google.colaboratory.intrinsic+json": {
              "type": "string"
            }
          },
          "metadata": {},
          "execution_count": 109
        }
      ]
    },
    {
      "cell_type": "code",
      "source": [
        "img"
      ],
      "metadata": {
        "colab": {
          "base_uri": "https://localhost:8080/",
          "height": 81
        },
        "id": "n_xOfJeplUll",
        "outputId": "cdc4e085-4866-484b-c323-63fd841ff757"
      },
      "execution_count": 110,
      "outputs": [
        {
          "output_type": "execute_result",
          "data": {
            "text/plain": [
              "<PIL.Image.Image image mode=RGB size=64x64 at 0x7FBB6F079950>"
            ],
            "image/png": "[encoded data removed]"
          },
          "metadata": {},
          "execution_count": 110
        }
      ]
    }
  ]
}